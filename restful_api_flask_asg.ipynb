{
  "nbformat": 4,
  "nbformat_minor": 0,
  "metadata": {
    "colab": {
      "provenance": []
    },
    "kernelspec": {
      "name": "python3",
      "display_name": "Python 3"
    },
    "language_info": {
      "name": "python"
    }
  },
  "cells": [
    {
      "cell_type": "markdown",
      "source": [
        "## Theoretical questions"
      ],
      "metadata": {
        "id": "ZkaZeDHFZRr7"
      }
    },
    {
      "cell_type": "markdown",
      "source": [
        "1. What is a RESTful API?\n",
        "\n",
        "*   A RESTful API is a way for apps to talk to each other over the web using simple rules.\n",
        "*   It uses HTTP methods like GET, POST, PUT, DELETE.\n",
        "*It uses HTTP methods like GET, POST, PUT, DELETE.\n",
        "\n",
        "* It’s simple, fast, and widely used in web and mobile apps."
      ],
      "metadata": {
        "id": "DgaCzE-MVxWJ"
      }
    },
    {
      "cell_type": "markdown",
      "source": [
        "2. Explain the concept of API specification.\n",
        "\n",
        "* An API specification is like a rulebook that explains how to use an API.\n",
        "* It tells what data is needed, what responses to expect, and what errors may come.\n",
        "* It helps developers understand and use the API correctly."
      ],
      "metadata": {
        "id": "sQ0PETeGWFFS"
      }
    },
    {
      "cell_type": "markdown",
      "source": [
        "3. What is Flask, and why is it popular for building APIs?\n",
        "\n",
        "* Flask is a lightweight Python web framework.\n",
        "* It’s popular because it’s simple, flexible, and easy to use.\n",
        "* You can build APIs quickly without writing too much code."
      ],
      "metadata": {
        "id": "O_rFS5dNXZee"
      }
    },
    {
      "cell_type": "markdown",
      "source": [
        "4. What is routing in Flask?\n",
        "\n",
        "* Routing means deciding which URL should trigger which function in your app.\n",
        "* In Flask, you map URLs to functions using decorators like @app.route().\n",
        "* It helps organize how users interact with your web or API endpoints."
      ],
      "metadata": {
        "id": "J7oCI3lPXdvB"
      }
    },
    {
      "cell_type": "markdown",
      "source": [
        "5. How do you create a simple Flask application?\n",
        "\n",
        "* First, install Flask and import it in Python.\n",
        "* Create an app object and define routes using @app.route().\n",
        "* Finally, run the app with app.run()."
      ],
      "metadata": {
        "id": "8bS6NZDsXjCu"
      }
    },
    {
      "cell_type": "markdown",
      "source": [
        "6. What are HTTP methods used in RESTful APIs?\n",
        "\n",
        "* HTTP methods are actions like GET, POST, PUT, DELETE.\n",
        "* They decide what operation to perform on the data.\n",
        "* For example, GET = read, POST = create, PUT = update, DELETE = remove."
      ],
      "metadata": {
        "id": "fKM74YnxXlYz"
      }
    },
    {
      "cell_type": "markdown",
      "source": [
        "7. What is the purpose of the @app.route() decorator in Flask?\n",
        "\n",
        "* It connects a URL path to a specific function.\n",
        "* When someone visits that URL, Flask runs the linked function.\n",
        "* It’s how routing works in Flask."
      ],
      "metadata": {
        "id": "382BbYMhXoar"
      }
    },
    {
      "cell_type": "markdown",
      "source": [
        "8. What is the difference between GET and POST HTTP methods?\n",
        "\n",
        "* GET is used to fetch data from the server.\n",
        "* POST is used to send data to the server (like submitting a form).\n",
        "* GET shows data in the URL, POST hides it in the body."
      ],
      "metadata": {
        "id": "Tw7fLgLaXqtZ"
      }
    },
    {
      "cell_type": "markdown",
      "source": [
        "9. How do you handle errors in Flask APIs?\n",
        "\n",
        "* You can use error handlers like @app.errorhandler().\n",
        "* They let you show custom error messages (like 404 or 500).\n",
        "* It makes your API more user-friendly and clear."
      ],
      "metadata": {
        "id": "bXNwdLIEXsdB"
      }
    },
    {
      "cell_type": "markdown",
      "source": [
        "10. How do you connect Flask to a SQL database?\n",
        "\n",
        "* You install a database driver or use Flask-SQLAlchemy.\n",
        "* Set database details in Flask’s configuration.\n",
        "* Then, connect and run queries from your Flask app.\n"
      ],
      "metadata": {
        "id": "3DVHle9QXzIJ"
      }
    },
    {
      "cell_type": "markdown",
      "source": [
        "11. What is the role of Flask-SQLAlchemy?\n",
        "\n",
        "* It helps you use databases easily in Flask.\n",
        "* Instead of writing long SQL queries, you can use Python classes.\n",
        "* It makes database work simpler and cleaner."
      ],
      "metadata": {
        "id": "z5jIXxUGYhHU"
      }
    },
    {
      "cell_type": "markdown",
      "source": [
        "12. What are Flask blueprints, and how are they useful?\n",
        "\n",
        "* Blueprints let you split a big app into smaller parts.\n",
        "* Each part can have its own routes and logic.\n",
        "* It makes large Flask apps easier to manage."
      ],
      "metadata": {
        "id": "OBj-xZoJYkNo"
      }
    },
    {
      "cell_type": "markdown",
      "source": [
        "13. What is the purpose of Flask's request object?\n",
        "\n",
        "* The request object holds all incoming request data.\n",
        "* It includes form data, JSON, headers, and more.\n",
        "* It helps you read what the client is sending."
      ],
      "metadata": {
        "id": "70gtsOGfYm2A"
      }
    },
    {
      "cell_type": "markdown",
      "source": [
        "14. How do you create a RESTful API endpoint using Flask?\n",
        "\n",
        "* Define a route with @app.route().\n",
        "* Choose an HTTP method like GET or POST.\n",
        "* Write a function that returns JSON data."
      ],
      "metadata": {
        "id": "sr618d5lYpOS"
      }
    },
    {
      "cell_type": "markdown",
      "source": [
        "15. What is the purpose of Flask's jsonify() function?\n",
        "\n",
        "* It converts Python data (like dict or list) into JSON format.\n",
        "* JSON is the standard data format for APIs.\n",
        "* It makes responses easy to read for clients."
      ],
      "metadata": {
        "id": "R6t_t_SFYrks"
      }
    },
    {
      "cell_type": "markdown",
      "source": [
        "16. Explain Flask’s url_for() function.\n",
        "\n",
        "* It creates URLs for your routes dynamically.\n",
        "* This way, you don’t hardcode URLs in your code.\n",
        "* If routes change, url_for() keeps links working."
      ],
      "metadata": {
        "id": "17TkMG9KYt3e"
      }
    },
    {
      "cell_type": "markdown",
      "source": [
        "17. How does Flask handle static files (CSS, JavaScript, etc.)?\n",
        "\n",
        "* Flask has a default folder called static.\n",
        "* You place your CSS, JS, or images there.\n",
        "* Flask automatically serves them from /static/ path."
      ],
      "metadata": {
        "id": "VV_LZK55Yvyz"
      }
    },
    {
      "cell_type": "markdown",
      "source": [
        "18. What is an API specification, and how does it help in building a Flask API?\n",
        "\n",
        "* It’s a guide that describes how the API should work.\n",
        "* It includes endpoints, data formats, and responses.\n",
        "* It ensures everyone builds and uses the API correctly."
      ],
      "metadata": {
        "id": "kEGI6Kl6YyL5"
      }
    },
    {
      "cell_type": "markdown",
      "source": [
        "19. What are HTTP status codes, and why are they important in a Flask API?\n",
        "\n",
        "* They are numbers that tell the result of a request.\n",
        "* For example, 200 = success, 404 = not found, 500 = server error.\n",
        "* They help clients understand what happened."
      ],
      "metadata": {
        "id": "qkB6sJx_Y0JJ"
      }
    },
    {
      "cell_type": "markdown",
      "source": [
        "20. How do you handle POST requests in Flask?\n",
        "\n",
        "* Use @app.route(..., methods=['POST']).\n",
        "* Access data with request.form or request.json.\n",
        "* Process it and return a response."
      ],
      "metadata": {
        "id": "XCiGDVcFY6Vv"
      }
    },
    {
      "cell_type": "markdown",
      "source": [
        "21. How would you secure a Flask API?\n",
        "\n",
        "* Use authentication like API keys or JWT tokens.\n",
        "* Validate all inputs to prevent attacks.\n",
        "* Always use HTTPS for safe communication."
      ],
      "metadata": {
        "id": "7LCGmL3xZGrT"
      }
    },
    {
      "cell_type": "markdown",
      "source": [
        "22. What is the significance of the Flask-RESTful extension?\n",
        "\n",
        "* It makes building REST APIs easier in Flask.\n",
        "* You can create resources and handle HTTP methods quickly.\n",
        "* It reduces the amount of boilerplate code."
      ],
      "metadata": {
        "id": "SdcqyYiYZI5V"
      }
    },
    {
      "cell_type": "markdown",
      "source": [
        "23. What is the role of Flask’s session object?\n",
        "\n",
        "* Session stores temporary data for a user across requests.\n",
        "* It’s saved on the server and tracked with a cookie.\n",
        "* Useful for login systems and user preferences."
      ],
      "metadata": {
        "id": "k_2urzUxZLVW"
      }
    },
    {
      "cell_type": "markdown",
      "source": [
        "## Practical questions"
      ],
      "metadata": {
        "id": "9KAQeq_RZMki"
      }
    },
    {
      "cell_type": "code",
      "source": [
        "!pip install flask"
      ],
      "metadata": {
        "colab": {
          "base_uri": "https://localhost:8080/"
        },
        "id": "4ToBW-RSXtb3",
        "outputId": "be8fd143-138d-4f9f-950c-ebec87654bb2"
      },
      "execution_count": 1,
      "outputs": [
        {
          "output_type": "stream",
          "name": "stdout",
          "text": [
            "Requirement already satisfied: flask in /usr/local/lib/python3.12/dist-packages (3.1.2)\n",
            "Requirement already satisfied: blinker>=1.9.0 in /usr/local/lib/python3.12/dist-packages (from flask) (1.9.0)\n",
            "Requirement already satisfied: click>=8.1.3 in /usr/local/lib/python3.12/dist-packages (from flask) (8.2.1)\n",
            "Requirement already satisfied: itsdangerous>=2.2.0 in /usr/local/lib/python3.12/dist-packages (from flask) (2.2.0)\n",
            "Requirement already satisfied: jinja2>=3.1.2 in /usr/local/lib/python3.12/dist-packages (from flask) (3.1.6)\n",
            "Requirement already satisfied: markupsafe>=2.1.1 in /usr/local/lib/python3.12/dist-packages (from flask) (3.0.2)\n",
            "Requirement already satisfied: werkzeug>=3.1.0 in /usr/local/lib/python3.12/dist-packages (from flask) (3.1.3)\n"
          ]
        }
      ]
    },
    {
      "cell_type": "code",
      "source": [
        "# 1. How do you create a basic Flask application?\n",
        "\n",
        "from flask import Flask\n",
        "\n",
        "app = Flask(__name__)\n",
        "\n",
        "@app.route(\"/\")\n",
        "def home():\n",
        "    return \"Hello, Flask!\"\n",
        "\n",
        "# Run the app (use this in Colab/Notebook)\n",
        "app.run(host=\"0.0.0.0\", port=5000)"
      ],
      "metadata": {
        "id": "hpH5Fd_lalNV"
      },
      "execution_count": null,
      "outputs": []
    },
    {
      "cell_type": "code",
      "source": [
        "# 2. How do you serve static files like images or CSS in Flask?\n",
        "\n",
        "from flask import Flask\n",
        "\n",
        "app = Flask(__name__)\n",
        "\n",
        "@app.route(\"/\")\n",
        "def home():\n",
        "    return '<img src=\"/static/image.png\"> <link rel=\"stylesheet\" href=\"/static/style.css\">'\n",
        "\n",
        "app.run(host=\"0.0.0.0\", port=5000)"
      ],
      "metadata": {
        "id": "CiIF5UDOanye"
      },
      "execution_count": null,
      "outputs": []
    },
    {
      "cell_type": "code",
      "source": [
        "# 3. How do you define different routes with different HTTP metho\n",
        "\n",
        "from flask import Flask, request\n",
        "\n",
        "app = Flask(__name__)\n",
        "\n",
        "@app.route(\"/data\", methods=[\"GET\", \"POST\"])\n",
        "def data():\n",
        "    if request.method == \"GET\":\n",
        "        return \"This is a GET request\"\n",
        "    if request.method == \"POST\":\n",
        "        return \"This is a POST request\"\n",
        "\n",
        "app.run(host=\"0.0.0.0\", port=5000)"
      ],
      "metadata": {
        "id": "QCdgHvs5aSsJ"
      },
      "execution_count": null,
      "outputs": []
    },
    {
      "cell_type": "code",
      "source": [
        "# 4. How do you render HTML templates in Flask?\n",
        "# html code\n",
        "# <!-- index.html -->\n",
        "# <html>\n",
        "#   <body><h1>Hello from Template!</h1></body>\n",
        "# </html>\n",
        "\n",
        "# python code\n",
        "from flask import Flask, render_template\n",
        "\n",
        "app = Flask(__name__)\n",
        "\n",
        "@app.route(\"/\")\n",
        "def home():\n",
        "    return render_template(\"index.html\")\n",
        "\n",
        "app.run(host=\"0.0.0.0\", port=5000)"
      ],
      "metadata": {
        "id": "dVp-hPO4asDo"
      },
      "execution_count": null,
      "outputs": []
    },
    {
      "cell_type": "code",
      "source": [
        "# 5. How can you generate URLs for routes in Flask using url_for()?\n",
        "\n",
        "from flask import Flask, url_for\n",
        "\n",
        "app = Flask(__name__)\n",
        "\n",
        "@app.route(\"/\")\n",
        "def home():\n",
        "    return f\"Visit the about page: {url_for('about')}\"\n",
        "\n",
        "@app.route(\"/about\")\n",
        "def about():\n",
        "    return \"This is About Page\"\n",
        "\n",
        "app.run(host=\"0.0.0.0\", port=5000)"
      ],
      "metadata": {
        "id": "FKAQEg09a_Mh"
      },
      "execution_count": null,
      "outputs": []
    },
    {
      "cell_type": "code",
      "source": [
        "# 6. How do you handle forms in Flask?\n",
        "\n",
        "# html code\n",
        "# <form method=\"POST\">\n",
        "#   <input type=\"text\" name=\"username\">\n",
        "#   <input type=\"submit\">\n",
        "# </form>\n",
        "\n",
        "# python code\n",
        "from flask import Flask, request, render_template\n",
        "\n",
        "app = Flask(__name__)\n",
        "\n",
        "@app.route(\"/\", methods=[\"GET\", \"POST\"])\n",
        "def form():\n",
        "    if request.method == \"POST\":\n",
        "        return f\"Hello {request.form['username']}\"\n",
        "    return render_template(\"form.html\")\n",
        "\n",
        "app.run(host=\"0.0.0.0\", port=5000)"
      ],
      "metadata": {
        "id": "VV4huc4hbDJV"
      },
      "execution_count": null,
      "outputs": []
    },
    {
      "cell_type": "code",
      "source": [
        "# 7. How can you validate form data in Flask?\n",
        "\n",
        "from flask import Flask, request\n",
        "\n",
        "app = Flask(__name__)\n",
        "\n",
        "@app.route(\"/\", methods=[\"POST\", \"GET\"])\n",
        "def form():\n",
        "    if request.method == \"POST\":\n",
        "        name = request.form.get(\"username\")\n",
        "        if not name:\n",
        "            return \"Name is required!\"\n",
        "        return f\"Welcome {name}\"\n",
        "    return '<form method=\"POST\"><input name=\"username\"><input type=\"submit\"></form>'\n",
        "\n",
        "app.run(host=\"0.0.0.0\", port=5000)"
      ],
      "metadata": {
        "id": "UHjeJpPmbMwT"
      },
      "execution_count": null,
      "outputs": []
    },
    {
      "cell_type": "code",
      "source": [
        "# 8. How do you manage sessions in Flask?\n",
        "\n",
        "from flask import Flask, session\n",
        "\n",
        "app = Flask(__name__)\n",
        "app.secret_key = \"secret123\"  # required for sessions\n",
        "\n",
        "@app.route(\"/\")\n",
        "def home():\n",
        "    session[\"name\"] = \"Alice\"\n",
        "    return \"Session set!\"\n",
        "\n",
        "@app.route(\"/get\")\n",
        "def get():\n",
        "    return f\"Hello {session.get('name')}\"\n",
        "\n",
        "app.run(host=\"0.0.0.0\", port=5000)"
      ],
      "metadata": {
        "id": "gNXbq9oCbQCq"
      },
      "execution_count": null,
      "outputs": []
    },
    {
      "cell_type": "code",
      "source": [
        "# 9. How do you redirect to a different route in Flask?\n",
        "\n",
        "from flask import Flask, redirect, url_for\n",
        "\n",
        "app = Flask(__name__)\n",
        "\n",
        "@app.route(\"/\")\n",
        "def home():\n",
        "    return redirect(url_for(\"about\"))\n",
        "\n",
        "@app.route(\"/about\")\n",
        "def about():\n",
        "    return \"You got redirected here!\"\n",
        "\n",
        "app.run(host=\"0.0.0.0\", port=5000)"
      ],
      "metadata": {
        "id": "aPtgYaOybTiX"
      },
      "execution_count": null,
      "outputs": []
    },
    {
      "cell_type": "code",
      "source": [
        "# 10. How do you handle errors in Flask (e.g., 404)?\n",
        "\n",
        "from flask import Flask\n",
        "\n",
        "app = Flask(__name__)\n",
        "\n",
        "@app.errorhandler(404)\n",
        "def not_found(e):\n",
        "    return \"Oops! Page not found.\", 404\n",
        "\n",
        "app.run(host=\"0.0.0.0\", port=5000)"
      ],
      "metadata": {
        "id": "392Ju02mbXOn"
      },
      "execution_count": null,
      "outputs": []
    },
    {
      "cell_type": "code",
      "source": [
        "# 11. How do you structure a Flask app using Blueprints?\n",
        "\n",
        "# routes.py\n",
        "from flask import Blueprint\n",
        "\n",
        "bp = Blueprint(\"main\", __name__)\n",
        "\n",
        "@bp.route(\"/\")\n",
        "def home():\n",
        "    return \"Hello from Blueprint!\""
      ],
      "metadata": {
        "id": "OdsGbUZobahx"
      },
      "execution_count": null,
      "outputs": []
    },
    {
      "cell_type": "code",
      "source": [
        "# 12. How do you define a custom Jinja filter in Flask?\n",
        "\n",
        "from flask import Flask, render_template_string\n",
        "\n",
        "app = Flask(__name__)\n",
        "\n",
        "@app.template_filter(\"reverse\")\n",
        "def reverse_filter(s):\n",
        "    return s[::-1]\n",
        "\n",
        "@app.route(\"/\")\n",
        "def home():\n",
        "    return render_template_string(\"{{ 'Flask'|reverse }}\")\n",
        "\n",
        "app.run(host=\"0.0.0.0\", port=5000)"
      ],
      "metadata": {
        "id": "lL_s0witbeKT"
      },
      "execution_count": null,
      "outputs": []
    },
    {
      "cell_type": "code",
      "source": [
        "# 13. How can you redirect with query parameters in Flask?\n",
        "\n",
        "from flask import Flask, redirect, url_for, request\n",
        "\n",
        "app = Flask(__name__)\n",
        "\n",
        "@app.route(\"/\")\n",
        "def home():\n",
        "    return redirect(url_for(\"hello\", name=\"Alice\"))\n",
        "\n",
        "@app.route(\"/hello\")\n",
        "def hello():\n",
        "    name = request.args.get(\"name\")\n",
        "    return f\"Hello {name}\"\n",
        "\n",
        "app.run(host=\"0.0.0.0\", port=5000)"
      ],
      "metadata": {
        "id": "LcnP-dwpbjmL"
      },
      "execution_count": null,
      "outputs": []
    },
    {
      "cell_type": "code",
      "source": [
        "# 14. How do you return JSON responses in Flask?\n",
        "\n",
        "from flask import Flask, jsonify\n",
        "\n",
        "app = Flask(__name__)\n",
        "\n",
        "@app.route(\"/json\")\n",
        "def json_data():\n",
        "    return jsonify({\"name\": \"Alice\", \"age\": 21})\n",
        "\n",
        "app.run(host=\"0.0.0.0\", port=5000)\n"
      ],
      "metadata": {
        "id": "MDSoPRAbbpPi"
      },
      "execution_count": null,
      "outputs": []
    },
    {
      "cell_type": "code",
      "source": [
        "# 15. How do you capture URL parameters in Flask?\n",
        "\n",
        "from flask import Flask\n",
        "\n",
        "app = Flask(__name__)\n",
        "\n",
        "@app.route(\"/user/<name>\")\n",
        "def user(name):\n",
        "    return f\"Hello {name}\"\n",
        "\n",
        "app.run(host=\"0.0.0.0\", port=5000)"
      ],
      "metadata": {
        "id": "-SNbgyZ6bssM"
      },
      "execution_count": null,
      "outputs": []
    }
  ]
}